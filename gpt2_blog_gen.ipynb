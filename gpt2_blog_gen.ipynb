{
  "nbformat": 4,
  "nbformat_minor": 0,
  "metadata": {
    "colab": {
      "name": "gpt2_blog_gen.ipynb",
      "provenance": [],
      "history_visible": true,
      "authorship_tag": "ABX9TyMobDcbu8pdy+4pVeovGtrE",
      "include_colab_link": true
    },
    "kernelspec": {
      "name": "python3",
      "display_name": "Python 3"
    },
    "language_info": {
      "name": "python"
    },
    "accelerator": "GPU"
  },
  "cells": [
    {
      "cell_type": "markdown",
      "metadata": {
        "id": "view-in-github",
        "colab_type": "text"
      },
      "source": [
        "<a href=\"https://colab.research.google.com/github/buzman92/gpt2lab/blob/main/gpt2_blog_gen.ipynb\" target=\"_parent\"><img src=\"https://colab.research.google.com/assets/colab-badge.svg\" alt=\"Open In Colab\"/></a>"
      ]
    },
    {
      "cell_type": "code",
      "metadata": {
        "id": "o2kHw1A6BM-c"
      },
      "source": [
        "import tensorflow"
      ],
      "execution_count": 32,
      "outputs": []
    },
    {
      "cell_type": "code",
      "metadata": {
        "id": "cK3zp3k2B4mf"
      },
      "source": [
        "from transformers import GPT2LMHeadModel, GPT2Tokenizer"
      ],
      "execution_count": 33,
      "outputs": []
    },
    {
      "cell_type": "code",
      "metadata": {
        "id": "qh2Gl74ZB7sC"
      },
      "source": [
        "tokenizer = GPT2Tokenizer.from_pretrained(\"gpt2\")"
      ],
      "execution_count": 34,
      "outputs": []
    },
    {
      "cell_type": "code",
      "metadata": {
        "id": "unQp_V3gB9dn"
      },
      "source": [
        "model = GPT2LMHeadModel.from_pretrained(\"gpt2\", pad_token_id=tokenizer.eos_token_id)"
      ],
      "execution_count": 35,
      "outputs": []
    },
    {
      "cell_type": "code",
      "metadata": {
        "id": "AsJrYt6RCP7L"
      },
      "source": [
        "sentence = 'financing mars exploration is'\n",
        "input_ids = tokenizer.encode(sentence, return_tensors='pt')"
      ],
      "execution_count": 36,
      "outputs": []
    },
    {
      "cell_type": "code",
      "metadata": {
        "colab": {
          "base_uri": "https://localhost:8080/",
          "height": 35
        },
        "id": "V9Rmvte5CU1v",
        "outputId": "12b8a020-44d1-457e-92be-eea1e00f4df4"
      },
      "source": [
        "tokenizer.decode(input_ids[0][0])"
      ],
      "execution_count": 37,
      "outputs": [
        {
          "output_type": "execute_result",
          "data": {
            "application/vnd.google.colaboratory.intrinsic+json": {
              "type": "string"
            },
            "text/plain": [
              "'fin'"
            ]
          },
          "metadata": {
            "tags": []
          },
          "execution_count": 37
        }
      ]
    },
    {
      "cell_type": "code",
      "metadata": {
        "id": "Ib-X-Wq6CWpp"
      },
      "source": [
        "output = model.generate(input_ids, max_length=1000, num_beams=5, no_repeat_ngram_size=2, early_stopping=True)"
      ],
      "execution_count": 38,
      "outputs": []
    },
    {
      "cell_type": "code",
      "metadata": {
        "colab": {
          "base_uri": "https://localhost:8080/"
        },
        "id": "uWPtZHcVCY6L",
        "outputId": "4555896d-0b17-4673-c51b-d5a9a58d993f"
      },
      "source": [
        "len(output[0])"
      ],
      "execution_count": 39,
      "outputs": [
        {
          "output_type": "execute_result",
          "data": {
            "text/plain": [
              "93"
            ]
          },
          "metadata": {
            "tags": []
          },
          "execution_count": 39
        }
      ]
    },
    {
      "cell_type": "code",
      "metadata": {
        "colab": {
          "base_uri": "https://localhost:8080/",
          "height": 69
        },
        "id": "5AP60qhJCapR",
        "outputId": "37ab8511-3a98-4a5b-d76d-47bcec7c11d4"
      },
      "source": [
        "tokenizer.decode(output[0], skip_special_tokens=True)"
      ],
      "execution_count": 40,
      "outputs": [
        {
          "output_type": "execute_result",
          "data": {
            "application/vnd.google.colaboratory.intrinsic+json": {
              "type": "string"
            },
            "text/plain": [
              "\"financing mars exploration is one of the most controversial issues in the space program.\\n\\nNASA's Mars Exploration Program (MEP) is a joint venture between NASA, the U.S. Army Corps of Engineers, and the National Science Foundation (NSF). The MEP is funded by NASA's Office of Science and Technology Policy (OSTP) and by the NSF's National Aeronautics and Space Administration (NASA Goddard Space Flight Center).\""
            ]
          },
          "metadata": {
            "tags": []
          },
          "execution_count": 40
        }
      ]
    }
  ]
}